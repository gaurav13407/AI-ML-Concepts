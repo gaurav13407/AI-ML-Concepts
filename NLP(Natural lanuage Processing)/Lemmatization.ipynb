{
 "cells": [
  {
   "cell_type": "markdown",
   "metadata": {},
   "source": [
    "## Wodnet Lemmatizer\n",
    "\n",
    "Lemmatization techinque is like stemming.The output we will get after lemmatiztion is called 'lemma',which is a root word rather than root stem,the output of stemming.After lemmatization,we will be getting a valid word thats means the same thing.\n",
    "\n",
    "NLTK provides WordnetLemmatizer class which is a thin wrapper around the world net corpus.This class uses morphy()function to the Wordnet CorpusReader Class to find a lemma"
   ]
  }
 ],
 "metadata": {
  "kernelspec": {
   "display_name": "Python 3",
   "language": "python",
   "name": "python3"
  },
  "language_info": {
   "name": "python",
   "version": "3.12.0"
  }
 },
 "nbformat": 4,
 "nbformat_minor": 2
}
