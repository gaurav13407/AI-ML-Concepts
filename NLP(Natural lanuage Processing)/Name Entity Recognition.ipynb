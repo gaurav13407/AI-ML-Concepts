{
 "cells": [
  {
   "cell_type": "markdown",
   "id": "7eb54156",
   "metadata": {},
   "source": [
    "## Named Entity Recognition"
   ]
  },
  {
   "cell_type": "code",
   "execution_count": 2,
   "id": "4047ec82",
   "metadata": {},
   "outputs": [],
   "source": [
    "sentence=\"\"\"\n",
    "The Eiffle Tower was built from  1887 to 1889 by french enginner Gustav Eiffle ,\n",
    "Whose Company specialized in bulding metal framework and Srtucture.\n",
    "\"\"\""
   ]
  },
  {
   "cell_type": "code",
   "execution_count": 4,
   "id": "f44c0b5a",
   "metadata": {},
   "outputs": [],
   "source": [
    "import nltk\n",
    "words=nltk.word_tokenize(sentence)"
   ]
  },
  {
   "cell_type": "code",
   "execution_count": 7,
   "id": "a811a444",
   "metadata": {},
   "outputs": [],
   "source": [
    "tag_elemnts=nltk.pos_tag(words)"
   ]
  },
  {
   "cell_type": "code",
   "execution_count": 12,
   "id": "aea15d3e",
   "metadata": {},
   "outputs": [
    {
     "name": "stderr",
     "output_type": "stream",
     "text": [
      "[nltk_data] Downloading package words to /home/gaurav/nltk_data...\n",
      "[nltk_data]   Unzipping corpora/words.zip.\n"
     ]
    },
    {
     "data": {
      "text/plain": [
       "True"
      ]
     },
     "execution_count": 12,
     "metadata": {},
     "output_type": "execute_result"
    }
   ],
   "source": [
    "nltk.download('words')\n"
   ]
  },
  {
   "cell_type": "code",
   "execution_count": 15,
   "id": "d110ef21",
   "metadata": {},
   "outputs": [],
   "source": [
    "nltk.ne_chunk(tag_elemnts).draw()"
   ]
  },
  {
   "cell_type": "code",
   "execution_count": null,
   "id": "7a669257",
   "metadata": {},
   "outputs": [],
   "source": []
  }
 ],
 "metadata": {
  "kernelspec": {
   "display_name": "Python 3",
   "language": "python",
   "name": "python3"
  },
  "language_info": {
   "codemirror_mode": {
    "name": "ipython",
    "version": 3
   },
   "file_extension": ".py",
   "mimetype": "text/x-python",
   "name": "python",
   "nbconvert_exporter": "python",
   "pygments_lexer": "ipython3",
   "version": "3.12.0"
  }
 },
 "nbformat": 4,
 "nbformat_minor": 5
}
