{
 "cells": [
  {
   "cell_type": "markdown",
   "id": "baca54e3",
   "metadata": {},
   "source": [
    "### PArt Of Speech Tags\n",
    "\n",
    "\"Taj Mahal is the beatufiul Monument.\""
   ]
  },
  {
   "cell_type": "code",
   "execution_count": 1,
   "id": "af59a802",
   "metadata": {},
   "outputs": [],
   "source": [
    "paragraph=\"\"\"  \n",
    "Greeting everyone. Today, I am here to deliver a speech on APJ Abdul Kalam. Dr APJ Abdul Kalam’s\n",
    "full name was Avul Pakir Zainuldeben Abdul Kalam, very few people know him by his full name as\n",
    "he was mostly addressed as ‘Missile Man of India’ and ‘People’s President’. He was born into a\n",
    "very poor family in Rameswaram on October 15, 1931. \n",
    "Since childhood, he enjoyed flying, and was equally curious to know how birds\n",
    " fly in the air? He was very intelligent and enjoyed reading, but his family did not have \n",
    " sufficient income for his school fees, so to support his education, he would wake up early in the morning\n",
    " and ride a bicycle 3 kilometres from home to collect newspapers and sell them.\n",
    "He was admitted to St. Joseph's College, Tiruchirapalli, and later he went on to complete a degree in physics\n",
    " in 1954 and then studied at the Madras Institute of Technology and graduated in aeronautical engineering in 1955. Since his childhood, Dr\n",
    "Abdul Alam wanted to be a pilot but couldn’t make his dream come true. He learned from his mistakes and accomplished numerous achievements in his \n",
    "life. After completing his degree, Abdul Kalam entered the Defense Department of India. He has been one of the key figures in building the nuclear capabilities of India.\n",
    "\n",
    "APJ Abdul Kalam was appointed to the Indian Ministry of Defense as a Technical Advisor in 1992, after which he served with DRDO and\n",
    " ISRO, the country's largest organization. Considered a national hero for successful nuclear tests in 1998, a second successful nuclear test was conducted in Pokhran\n",
    "the same year under his supervision, after which India was included in the list of nuclear-powered nations. Abdul Kalam has been active in all space programs and development programs \n",
    "in India as a scientist. For developing India's Agni missile, Kalam was called 'Missile Man.'Abdul Kalam made a special technological and scientific contribution, for which, along with \n",
    "Bharat Ratna, India's highest honour, he was awarded the Padma Bhushan, Padam Vibhushan, etc. He was also awarded an honorary doctorate by more than 30 universities in the world for the same. \n",
    "\n",
    "In 2002, he was elected President of India and was the country's first scientist and non-political president. He visited many countries during his tenure\n",
    " as President and led India's youth through his lectures and encouraged them to move forward.  ‘My vision for India’ was a Famous Speech of APJ Abdul Kalam delivered\n",
    "at IIT Hyderabad in 2011, and is to this day my favourite speech. His far-reaching thinking gave India's growth a fresh path and became the youth's inspiration. Dr Abdul Kalam died on July 27\n",
    ", 2015, from an apparent cardiac arrest while delivering a lecture at IIM Shillong at the age of 83. He spent his entire life in service and inspiration for the nation and the youth, and his death\n",
    " is also while addressing the youth. His death is a never-ending loss to the country.\n",
    "\"\"\""
   ]
  },
  {
   "cell_type": "code",
   "execution_count": 2,
   "id": "0331eaf8",
   "metadata": {},
   "outputs": [],
   "source": [
    "import nltk\n",
    "from nltk.stem import PorterStemmer\n",
    "from nltk.tokenize import word_tokenize\n",
    "from nltk.corpus import stopwords\n",
    "stemmer=PorterStemmer()\n",
    "sentences=nltk.sent_tokenize(paragraph)"
   ]
  },
  {
   "cell_type": "code",
   "execution_count": 3,
   "id": "7240a241",
   "metadata": {},
   "outputs": [
    {
     "data": {
      "text/plain": [
       "['  \\nGreeting everyone.',\n",
       " 'Today, I am here to deliver a speech on APJ Abdul Kalam.',\n",
       " 'Dr APJ Abdul Kalam’s\\nfull name was Avul Pakir Zainuldeben Abdul Kalam, very few people know him by his full name as\\nhe was mostly addressed as ‘Missile Man of India’ and ‘People’s President’.',\n",
       " 'He was born into a\\nvery poor family in Rameswaram on October 15, 1931.',\n",
       " 'Since childhood, he enjoyed flying, and was equally curious to know how birds\\n fly in the air?',\n",
       " 'He was very intelligent and enjoyed reading, but his family did not have \\n sufficient income for his school fees, so to support his education, he would wake up early in the morning\\n and ride a bicycle 3 kilometres from home to collect newspapers and sell them.',\n",
       " \"He was admitted to St. Joseph's College, Tiruchirapalli, and later he went on to complete a degree in physics\\n in 1954 and then studied at the Madras Institute of Technology and graduated in aeronautical engineering in 1955.\",\n",
       " 'Since his childhood, Dr\\nAbdul Alam wanted to be a pilot but couldn’t make his dream come true.',\n",
       " 'He learned from his mistakes and accomplished numerous achievements in his \\nlife.',\n",
       " 'After completing his degree, Abdul Kalam entered the Defense Department of India.',\n",
       " 'He has been one of the key figures in building the nuclear capabilities of India.',\n",
       " \"APJ Abdul Kalam was appointed to the Indian Ministry of Defense as a Technical Advisor in 1992, after which he served with DRDO and\\n ISRO, the country's largest organization.\",\n",
       " 'Considered a national hero for successful nuclear tests in 1998, a second successful nuclear test was conducted in Pokhran\\nthe same year under his supervision, after which India was included in the list of nuclear-powered nations.',\n",
       " 'Abdul Kalam has been active in all space programs and development programs \\nin India as a scientist.',\n",
       " \"For developing India's Agni missile, Kalam was called 'Missile Man.\",\n",
       " \"'Abdul Kalam made a special technological and scientific contribution, for which, along with \\nBharat Ratna, India's highest honour, he was awarded the Padma Bhushan, Padam Vibhushan, etc.\",\n",
       " 'He was also awarded an honorary doctorate by more than 30 universities in the world for the same.',\n",
       " \"In 2002, he was elected President of India and was the country's first scientist and non-political president.\",\n",
       " \"He visited many countries during his tenure\\n as President and led India's youth through his lectures and encouraged them to move forward.\",\n",
       " '‘My vision for India’ was a Famous Speech of APJ Abdul Kalam delivered\\nat IIT Hyderabad in 2011, and is to this day my favourite speech.',\n",
       " \"His far-reaching thinking gave India's growth a fresh path and became the youth's inspiration.\",\n",
       " 'Dr Abdul Kalam died on July 27\\n, 2015, from an apparent cardiac arrest while delivering a lecture at IIM Shillong at the age of 83.',\n",
       " 'He spent his entire life in service and inspiration for the nation and the youth, and his death\\n is also while addressing the youth.',\n",
       " 'His death is a never-ending loss to the country.']"
      ]
     },
     "execution_count": 3,
     "metadata": {},
     "output_type": "execute_result"
    }
   ],
   "source": [
    "sentences"
   ]
  },
  {
   "cell_type": "code",
   "execution_count": 6,
   "id": "d8fa2346",
   "metadata": {},
   "outputs": [
    {
     "name": "stderr",
     "output_type": "stream",
     "text": [
      "[nltk_data] Downloading package averaged_perceptron_tagger_eng to\n",
      "[nltk_data]     /home/gaurav/nltk_data...\n",
      "[nltk_data]   Unzipping taggers/averaged_perceptron_tagger_eng.zip.\n"
     ]
    },
    {
     "data": {
      "text/plain": [
       "True"
      ]
     },
     "execution_count": 6,
     "metadata": {},
     "output_type": "execute_result"
    }
   ],
   "source": [
    "import nltk\n",
    "nltk.download('averaged_perceptron_tagger_eng')\n"
   ]
  },
  {
   "cell_type": "code",
   "execution_count": 7,
   "id": "4fd626bc",
   "metadata": {},
   "outputs": [
    {
     "name": "stdout",
     "output_type": "stream",
     "text": [
      "[('Greeting', 'VBG'), ('everyone', 'NN'), ('.', '.')]\n",
      "[('Today', 'NN'), (',', ','), ('I', 'PRP'), ('deliver', 'VBP'), ('speech', 'JJ'), ('APJ', 'NNP'), ('Abdul', 'NNP'), ('Kalam', 'NNP'), ('.', '.')]\n",
      "[('Dr', 'NNP'), ('APJ', 'NNP'), ('Abdul', 'NNP'), ('Kalam', 'NNP'), ('’', 'NNP'), ('full', 'JJ'), ('name', 'NN'), ('Avul', 'NNP'), ('Pakir', 'NNP'), ('Zainuldeben', 'NNP'), ('Abdul', 'NNP'), ('Kalam', 'NNP'), (',', ','), ('people', 'NNS'), ('know', 'VBP'), ('full', 'JJ'), ('name', 'NN'), ('mostly', 'RB'), ('addressed', 'VBD'), ('‘', 'NNP'), ('Missile', 'NNP'), ('Man', 'NNP'), ('India', 'NNP'), ('’', 'NNP'), ('‘', 'NNP'), ('People', 'NNP'), ('’', 'NNP'), ('President', 'NNP'), ('’', 'NNP'), ('.', '.')]\n",
      "[('He', 'PRP'), ('born', 'VBD'), ('poor', 'JJ'), ('family', 'NN'), ('Rameswaram', 'NNP'), ('October', 'NNP'), ('15', 'CD'), (',', ','), ('1931', 'CD'), ('.', '.')]\n",
      "[('Since', 'IN'), ('childhood', 'NN'), (',', ','), ('enjoyed', 'VBD'), ('flying', 'VBG'), (',', ','), ('equally', 'RB'), ('curious', 'JJ'), ('know', 'VBP'), ('birds', 'NNS'), ('fly', 'VB'), ('air', 'NN'), ('?', '.')]\n",
      "[('He', 'PRP'), ('intelligent', 'JJ'), ('enjoyed', 'VBD'), ('reading', 'NN'), (',', ','), ('family', 'NN'), ('sufficient', 'JJ'), ('income', 'NN'), ('school', 'NN'), ('fees', 'NNS'), (',', ','), ('support', 'NN'), ('education', 'NN'), (',', ','), ('would', 'MD'), ('wake', 'VB'), ('early', 'JJ'), ('morning', 'NN'), ('ride', 'NN'), ('bicycle', 'NN'), ('3', 'CD'), ('kilometres', 'VBZ'), ('home', 'NN'), ('collect', 'NN'), ('newspapers', 'NNS'), ('sell', 'VBP'), ('.', '.')]\n",
      "[('He', 'PRP'), ('admitted', 'VBD'), ('St.', 'NNP'), ('Joseph', 'NNP'), (\"'s\", 'POS'), ('College', 'NNP'), (',', ','), ('Tiruchirapalli', 'NNP'), (',', ','), ('later', 'RB'), ('went', 'VBD'), ('complete', 'JJ'), ('degree', 'NN'), ('physics', 'NNS'), ('1954', 'CD'), ('studied', 'VBD'), ('Madras', 'NNP'), ('Institute', 'NNP'), ('Technology', 'NNP'), ('graduated', 'VBD'), ('aeronautical', 'JJ'), ('engineering', 'NN'), ('1955', 'CD'), ('.', '.')]\n",
      "[('Since', 'IN'), ('childhood', 'NN'), (',', ','), ('Dr', 'NNP'), ('Abdul', 'NNP'), ('Alam', 'NNP'), ('wanted', 'VBD'), ('pilot', 'NN'), ('’', 'NNS'), ('make', 'VBP'), ('dream', 'NN'), ('come', 'VBN'), ('true', 'JJ'), ('.', '.')]\n",
      "[('He', 'PRP'), ('learned', 'VBD'), ('mistakes', 'NNS'), ('accomplished', 'VBN'), ('numerous', 'JJ'), ('achievements', 'NNS'), ('life', 'NN'), ('.', '.')]\n",
      "[('After', 'IN'), ('completing', 'VBG'), ('degree', 'NN'), (',', ','), ('Abdul', 'NNP'), ('Kalam', 'NNP'), ('entered', 'VBD'), ('Defense', 'NNP'), ('Department', 'NNP'), ('India', 'NNP'), ('.', '.')]\n",
      "[('He', 'PRP'), ('one', 'CD'), ('key', 'NN'), ('figures', 'NNS'), ('building', 'VBG'), ('nuclear', 'JJ'), ('capabilities', 'NNS'), ('India', 'NNP'), ('.', '.')]\n",
      "[('APJ', 'NNP'), ('Abdul', 'NNP'), ('Kalam', 'NNP'), ('appointed', 'VBD'), ('Indian', 'JJ'), ('Ministry', 'NNP'), ('Defense', 'NNP'), ('Technical', 'NNP'), ('Advisor', 'NNP'), ('1992', 'CD'), (',', ','), ('served', 'VBD'), ('DRDO', 'NNP'), ('ISRO', 'NNP'), (',', ','), ('country', 'NN'), (\"'s\", 'POS'), ('largest', 'JJS'), ('organization', 'NN'), ('.', '.')]\n",
      "[('Considered', 'VBN'), ('national', 'JJ'), ('hero', 'NN'), ('successful', 'JJ'), ('nuclear', 'JJ'), ('tests', 'NNS'), ('1998', 'CD'), (',', ','), ('second', 'JJ'), ('successful', 'JJ'), ('nuclear', 'JJ'), ('test', 'NN'), ('conducted', 'VBN'), ('Pokhran', 'NNP'), ('year', 'NN'), ('supervision', 'NN'), (',', ','), ('India', 'NNP'), ('included', 'VBD'), ('list', 'JJ'), ('nuclear-powered', 'JJ'), ('nations', 'NNS'), ('.', '.')]\n",
      "[('Abdul', 'NNP'), ('Kalam', 'NNP'), ('active', 'JJ'), ('space', 'NN'), ('programs', 'NNS'), ('development', 'NN'), ('programs', 'NNS'), ('India', 'NNP'), ('scientist', 'NN'), ('.', '.')]\n",
      "[('For', 'IN'), ('developing', 'VBG'), ('India', 'NNP'), (\"'s\", 'POS'), ('Agni', 'NNP'), ('missile', 'NN'), (',', ','), ('Kalam', 'NNP'), ('called', 'VBD'), (\"'Missile\", 'POS'), ('Man', 'NN'), ('.', '.')]\n",
      "[(\"'Abdul\", 'CD'), ('Kalam', 'NNP'), ('made', 'VBD'), ('special', 'JJ'), ('technological', 'JJ'), ('scientific', 'JJ'), ('contribution', 'NN'), (',', ','), (',', ','), ('along', 'IN'), ('Bharat', 'NNP'), ('Ratna', 'NNP'), (',', ','), ('India', 'NNP'), (\"'s\", 'POS'), ('highest', 'JJS'), ('honour', 'NN'), (',', ','), ('awarded', 'VBD'), ('Padma', 'NNP'), ('Bhushan', 'NNP'), (',', ','), ('Padam', 'NNP'), ('Vibhushan', 'NNP'), (',', ','), ('etc', 'NN'), ('.', '.')]\n",
      "[('He', 'PRP'), ('also', 'RB'), ('awarded', 'VBD'), ('honorary', 'JJ'), ('doctorate', 'NN'), ('30', 'CD'), ('universities', 'JJ'), ('world', 'NN'), ('.', '.')]\n",
      "[('In', 'IN'), ('2002', 'CD'), (',', ','), ('elected', 'VBN'), ('President', 'NNP'), ('India', 'NNP'), ('country', 'NN'), (\"'s\", 'POS'), ('first', 'JJ'), ('scientist', 'JJ'), ('non-political', 'JJ'), ('president', 'NN'), ('.', '.')]\n",
      "[('He', 'PRP'), ('visited', 'VBD'), ('many', 'JJ'), ('countries', 'NNS'), ('tenure', 'VBP'), ('President', 'NNP'), ('led', 'VBD'), ('India', 'NNP'), (\"'s\", 'POS'), ('youth', 'NN'), ('lectures', 'VBZ'), ('encouraged', 'VBN'), ('move', 'NN'), ('forward', 'RB'), ('.', '.')]\n",
      "[('‘', 'VB'), ('My', 'PRP$'), ('vision', 'NN'), ('India', 'NNP'), ('’', 'NNP'), ('Famous', 'NNP'), ('Speech', 'NNP'), ('APJ', 'NNP'), ('Abdul', 'NNP'), ('Kalam', 'NNP'), ('delivered', 'VBD'), ('IIT', 'NNP'), ('Hyderabad', 'NNP'), ('2011', 'CD'), (',', ','), ('day', 'NN'), ('favourite', 'JJ'), ('speech', 'NN'), ('.', '.')]\n",
      "[('His', 'PRP$'), ('far-reaching', 'JJ'), ('thinking', 'NN'), ('gave', 'VBD'), ('India', 'NNP'), (\"'s\", 'POS'), ('growth', 'NN'), ('fresh', 'JJ'), ('path', 'NN'), ('became', 'VBD'), ('youth', 'NNP'), (\"'s\", 'POS'), ('inspiration', 'NN'), ('.', '.')]\n",
      "[('Dr', 'NNP'), ('Abdul', 'NNP'), ('Kalam', 'NNP'), ('died', 'VBD'), ('July', 'NNP'), ('27', 'CD'), (',', ','), ('2015', 'CD'), (',', ','), ('apparent', 'JJ'), ('cardiac', 'JJ'), ('arrest', 'NN'), ('delivering', 'NN'), ('lecture', 'NN'), ('IIM', 'NNP'), ('Shillong', 'NNP'), ('age', 'NN'), ('83', 'CD'), ('.', '.')]\n",
      "[('He', 'PRP'), ('spent', 'VBD'), ('entire', 'JJ'), ('life', 'NN'), ('service', 'NN'), ('inspiration', 'NN'), ('nation', 'NN'), ('youth', 'NN'), (',', ','), ('death', 'NN'), ('also', 'RB'), ('addressing', 'VBG'), ('youth', 'NN'), ('.', '.')]\n",
      "[('His', 'PRP$'), ('death', 'NN'), ('never-ending', 'JJ'), ('loss', 'NN'), ('country', 'NN'), ('.', '.')]\n"
     ]
    }
   ],
   "source": [
    "## We will find the pos tag\n",
    "\n",
    "for i in range(len(sentences)):\n",
    "    words=nltk.word_tokenize(sentences[i])\n",
    "    words=[word for word in words if word not in set(stopwords.words('english'))]\n",
    "    poss_tag=nltk.pos_tag(words)\n",
    "    print(poss_tag)"
   ]
  },
  {
   "cell_type": "code",
   "execution_count": 10,
   "id": "0b40e63e",
   "metadata": {},
   "outputs": [
    {
     "name": "stdout",
     "output_type": "stream",
     "text": [
      "[('Taj', 'NNP'), ('Mahal', 'NNP'), ('is', 'VBZ'), ('the', 'DT'), ('beatufiul', 'NN'), ('Monument.', 'NNP')]\n"
     ]
    }
   ],
   "source": [
    "print(nltk.pos_tag(\"Taj Mahal is the beatufiul Monument.\".split()))"
   ]
  },
  {
   "cell_type": "code",
   "execution_count": null,
   "id": "04f4ae24",
   "metadata": {},
   "outputs": [],
   "source": []
  }
 ],
 "metadata": {
  "kernelspec": {
   "display_name": "Python 3",
   "language": "python",
   "name": "python3"
  },
  "language_info": {
   "codemirror_mode": {
    "name": "ipython",
    "version": 3
   },
   "file_extension": ".py",
   "mimetype": "text/x-python",
   "name": "python",
   "nbconvert_exporter": "python",
   "pygments_lexer": "ipython3",
   "version": "3.12.0"
  }
 },
 "nbformat": 4,
 "nbformat_minor": 5
}
