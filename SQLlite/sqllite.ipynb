{
 "cells": [
  {
   "cell_type": "markdown",
   "metadata": {},
   "source": [
    "## SQL And SQLite\n",
    "\n",
    "SQL(Structured Query Language) is a standard language for managing and relational databases.SQLite is a self-contained,serveless,and zero-configuration database engine that is wiedly used for embedded database system."
   ]
  },
  {
   "cell_type": "code",
   "execution_count": 7,
   "metadata": {},
   "outputs": [],
   "source": [
    "import sqlite3"
   ]
  },
  {
   "cell_type": "code",
   "execution_count": 8,
   "metadata": {},
   "outputs": [
    {
     "data": {
      "text/plain": [
       "<sqlite3.Connection at 0x14d06660400>"
      ]
     },
     "execution_count": 8,
     "metadata": {},
     "output_type": "execute_result"
    }
   ],
   "source": [
    "## Coonect to an SQLite database\n",
    "connection=sqlite3.connect('example.db')\n",
    "connection"
   ]
  },
  {
   "cell_type": "code",
   "execution_count": 9,
   "metadata": {},
   "outputs": [],
   "source": [
    "cursor=connection.cursor()"
   ]
  },
  {
   "cell_type": "code",
   "execution_count": 12,
   "metadata": {},
   "outputs": [],
   "source": [
    "cursor.execute('''\n",
    "CREATE TABLE IF NOT EXISTS employees (\n",
    "    id INTEGER PRIMARY KEY,\n",
    "    name TEXT NOT NULL,\n",
    "    age INTEGER,\n",
    "    department TEXT\n",
    ")       \n",
    "''')\n",
    "\n",
    "# Commit the changes\n",
    "connection.commit()\n"
   ]
  },
  {
   "cell_type": "code",
   "execution_count": 14,
   "metadata": {},
   "outputs": [
    {
     "data": {
      "text/plain": [
       "<sqlite3.Cursor at 0x14d06211ac0>"
      ]
     },
     "execution_count": 14,
     "metadata": {},
     "output_type": "execute_result"
    }
   ],
   "source": [
    "cursor.execute('''\n",
    "Select * From Employees\n",
    "\n",
    "''')\n"
   ]
  },
  {
   "cell_type": "code",
   "execution_count": 19,
   "metadata": {},
   "outputs": [],
   "source": [
    "## INsert the data in sqlite table\n",
    "cursor.execute('''\n",
    "Insert Into employees(name,age,department)\n",
    "            values('Krish',32,'Data Scientist')\n",
    " ''')\n",
    "cursor.execute('''\n",
    "Insert Into employees(name,age,department)\n",
    "values('Krish',32,'Data Scientist')\n",
    "''')\n",
    "cursor.execute('''\n",
    "Insert Into employees(name,age,department)\n",
    "values('Krish',32,'Data Scientist')\n",
    "''')\n",
    "\n",
    "connection.commit()"
   ]
  },
  {
   "cell_type": "code",
   "execution_count": 20,
   "metadata": {},
   "outputs": [
    {
     "name": "stdout",
     "output_type": "stream",
     "text": [
      "[(1, 'Krish', 32, 'Data Scientist'), (2, 'Krish', 32, 'Data Scientist'), (3, 'Krish', 32, 'Data Scientist')]\n",
      "[(1, 'Krish', 32, 'Data Scientist'), (2, 'Krish', 32, 'Data Scientist'), (3, 'Krish', 32, 'Data Scientist')]\n",
      "[(1, 'Krish', 32, 'Data Scientist'), (2, 'Krish', 32, 'Data Scientist'), (3, 'Krish', 32, 'Data Scientist')]\n"
     ]
    }
   ],
   "source": [
    "## Query the data from the table\n",
    "cursor.execute('Select * From employees')\n",
    "rows=cursor.fetchall()\n",
    "\n",
    "## Print the query data\n",
    "for row in rows:\n",
    "    print(rows)\n"
   ]
  },
  {
   "cell_type": "code",
   "execution_count": 22,
   "metadata": {},
   "outputs": [],
   "source": [
    "## UPdate the data in the table\n",
    "cursor.execute('''\n",
    "Update employees\n",
    "set age=34\n",
    "where name=\"krish\"\n",
    "\n",
    "''')\n",
    "connection.commit()"
   ]
  },
  {
   "cell_type": "code",
   "execution_count": 23,
   "metadata": {},
   "outputs": [],
   "source": [
    "## Delete the data from the table\n",
    "cursor.execute('''\n",
    "Delete from employees\n",
    "where name='krish'\n",
    "               ''')\n",
    "connection.commit()"
   ]
  },
  {
   "cell_type": "code",
   "execution_count": 24,
   "metadata": {},
   "outputs": [
    {
     "name": "stdout",
     "output_type": "stream",
     "text": [
      "[(1, 'Krish', 32, 'Data Scientist'), (2, 'Krish', 32, 'Data Scientist'), (3, 'Krish', 32, 'Data Scientist')]\n",
      "[(1, 'Krish', 32, 'Data Scientist'), (2, 'Krish', 32, 'Data Scientist'), (3, 'Krish', 32, 'Data Scientist')]\n",
      "[(1, 'Krish', 32, 'Data Scientist'), (2, 'Krish', 32, 'Data Scientist'), (3, 'Krish', 32, 'Data Scientist')]\n"
     ]
    }
   ],
   "source": [
    "cursor.execute('Select * From employees')\n",
    "rows=cursor.fetchall()\n",
    "\n",
    "## Print the query data\n",
    "for row in rows:\n",
    "    print(rows)"
   ]
  },
  {
   "cell_type": "code",
   "execution_count": null,
   "metadata": {},
   "outputs": [],
   "source": []
  }
 ],
 "metadata": {
  "kernelspec": {
   "display_name": "Python 3",
   "language": "python",
   "name": "python3"
  },
  "language_info": {
   "codemirror_mode": {
    "name": "ipython",
    "version": 3
   },
   "file_extension": ".py",
   "mimetype": "text/x-python",
   "name": "python",
   "nbconvert_exporter": "python",
   "pygments_lexer": "ipython3",
   "version": "3.12.0"
  }
 },
 "nbformat": 4,
 "nbformat_minor": 2
}
