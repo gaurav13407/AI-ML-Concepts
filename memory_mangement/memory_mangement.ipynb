{
 "cells": [
  {
   "cell_type": "markdown",
   "metadata": {},
   "source": [
    "### Reference Counting\n",
    "\n",
    "Refernce counting is the primary method python uses to manage memeory.Each object in python maintain a count pointing to it.When the refernece count drop to zero, the memory occupied by the object is deallocated"
   ]
  },
  {
   "cell_type": "code",
   "execution_count": 1,
   "metadata": {},
   "outputs": [
    {
     "name": "stdout",
     "output_type": "stream",
     "text": [
      "2\n"
     ]
    }
   ],
   "source": [
    "## Refernece Counting\n",
    "import sys\n",
    "\n",
    "a=[]\n",
    "## 2(one refernec from 'a' and one from getrefrom())\n",
    "print(sys.getrefcount(a))"
   ]
  },
  {
   "cell_type": "code",
   "execution_count": 2,
   "metadata": {},
   "outputs": [
    {
     "name": "stdout",
     "output_type": "stream",
     "text": [
      "3\n"
     ]
    }
   ],
   "source": [
    "b=a\n",
    "print(sys.getrefcount(b))"
   ]
  },
  {
   "cell_type": "code",
   "execution_count": 7,
   "metadata": {},
   "outputs": [
    {
     "ename": "NameError",
     "evalue": "name 'b' is not defined",
     "output_type": "error",
     "traceback": [
      "\u001b[1;31m---------------------------------------------------------------------------\u001b[0m",
      "\u001b[1;31mNameError\u001b[0m                                 Traceback (most recent call last)",
      "Cell \u001b[1;32mIn[7], line 1\u001b[0m\n\u001b[1;32m----> 1\u001b[0m \u001b[38;5;28;01mdel\u001b[39;00m \u001b[43mb\u001b[49m\n\u001b[0;32m      2\u001b[0m \u001b[38;5;28mprint\u001b[39m(sys\u001b[38;5;241m.\u001b[39mgetrefcount(b))\n",
      "\u001b[1;31mNameError\u001b[0m: name 'b' is not defined"
     ]
    }
   ],
   "source": [
    "del b\n",
    "print(sys.getrefcount(b))"
   ]
  },
  {
   "cell_type": "markdown",
   "metadata": {},
   "source": [
    "### Garbage Collection\n",
    "\n",
    "Python inculdes a cyclic garbage collection to handle refernece cycle. Refernece cycles occur when objects refernece each other,preventing their refernece counts from reaching zero.\n"
   ]
  },
  {
   "cell_type": "code",
   "execution_count": 8,
   "metadata": {},
   "outputs": [],
   "source": [
    "import gc\n",
    "## Enable garbage collectiion\n",
    "gc.enable()"
   ]
  },
  {
   "cell_type": "code",
   "execution_count": 9,
   "metadata": {},
   "outputs": [],
   "source": [
    "gc.disable()"
   ]
  },
  {
   "cell_type": "code",
   "execution_count": 10,
   "metadata": {},
   "outputs": [
    {
     "data": {
      "text/plain": [
       "275"
      ]
     },
     "execution_count": 10,
     "metadata": {},
     "output_type": "execute_result"
    }
   ],
   "source": [
    "gc.collect()"
   ]
  },
  {
   "cell_type": "code",
   "execution_count": 11,
   "metadata": {},
   "outputs": [
    {
     "name": "stdout",
     "output_type": "stream",
     "text": [
      "[{'collections': 232, 'collected': 1442, 'uncollectable': 0}, {'collections': 21, 'collected': 2377, 'uncollectable': 0}, {'collections': 2, 'collected': 275, 'uncollectable': 0}]\n"
     ]
    }
   ],
   "source": [
    "### Get garabge collection stats\n",
    "print(gc.get_stats())"
   ]
  },
  {
   "cell_type": "code",
   "execution_count": 12,
   "metadata": {},
   "outputs": [
    {
     "name": "stdout",
     "output_type": "stream",
     "text": [
      "[]\n"
     ]
    }
   ],
   "source": [
    "#### get unreachable object \n",
    "print(gc.garbage)"
   ]
  },
  {
   "cell_type": "code",
   "execution_count": 13,
   "metadata": {},
   "outputs": [
    {
     "name": "stdout",
     "output_type": "stream",
     "text": [
      "Object obj1cretaed\n",
      "Object obj2cretaed\n",
      "Object obj1deleted\n",
      "Object obj2deleted\n"
     ]
    },
    {
     "data": {
      "text/plain": [
       "606"
      ]
     },
     "execution_count": 13,
     "metadata": {},
     "output_type": "execute_result"
    }
   ],
   "source": [
    "import gc\n",
    "\n",
    "class Myobject:\n",
    "    def __init__(self,name):\n",
    "        self.name=name\n",
    "        print(f\"Object {self.name}cretaed\")\n",
    "        \n",
    "    def __del__(self):\n",
    "        print(f\"Object {self.name}deleted\")\n",
    "        \n",
    "        \n",
    "## Create a circular refernece\n",
    "obj1=Myobject(\"obj1\")\n",
    "obj2=Myobject(\"obj2\")\n",
    "obj1.ref=obj2\n",
    "obj2.ref=obj1\n",
    "\n",
    "del obj1\n",
    "del obj2\n",
    "\n",
    "## Manually Trigger the garbage collection\n",
    "gc.collect()"
   ]
  },
  {
   "cell_type": "code",
   "execution_count": 14,
   "metadata": {},
   "outputs": [
    {
     "name": "stdout",
     "output_type": "stream",
     "text": [
      "0\n",
      "1\n",
      "2\n",
      "3\n",
      "4\n",
      "5\n",
      "6\n",
      "7\n",
      "8\n",
      "9\n",
      "10\n",
      "11\n"
     ]
    }
   ],
   "source": [
    "## Genertaros for memory efficiency\n",
    "\n",
    "def generator_numbers(n):\n",
    "    for i in range(n):\n",
    "        yield i\n",
    "        \n",
    "## using the generators\n",
    "for num in generator_numbers(1000000):\n",
    "    print(num)\n",
    "    if(num>10):\n",
    "        break"
   ]
  },
  {
   "cell_type": "code",
   "execution_count": 15,
   "metadata": {},
   "outputs": [],
   "source": [
    "## Profiling Memeory usage with tracemalloc\n",
    "import tracemalloc\n",
    "\n",
    "def create_list():\n",
    "    return [i for i in range(10000)]\n",
    "\n",
    "def main():\n",
    "    tracemalloc.start()\n",
    "    \n",
    "    create_list()\n",
    "    \n",
    "    snapshot=tracemalloc.take_snapshot()\n",
    "    top_stats=snapshot.statistics('lineno')\n",
    "    \n",
    "    print(\"[top 10]\")\n",
    "    for stat in top_stats[:10]:\n",
    "        print(stat)"
   ]
  },
  {
   "cell_type": "code",
   "execution_count": 16,
   "metadata": {},
   "outputs": [
    {
     "name": "stdout",
     "output_type": "stream",
     "text": [
      "[top 10]\n",
      "c:\\Users\\91817\\Desktop\\Python AI&ML\\venve\\Lib\\selectors.py:314: size=144 KiB, count=3, average=48.0 KiB\n",
      "c:\\Users\\91817\\Desktop\\Python AI&ML\\venve\\Lib\\site-packages\\zmq\\eventloop\\zmqstream.py:694: size=160 B, count=1, average=160 B\n",
      "c:\\Users\\91817\\Desktop\\Python AI&ML\\venve\\Lib\\site-packages\\tornado\\platform\\asyncio.py:235: size=144 B, count=2, average=72 B\n",
      "c:\\Users\\91817\\Desktop\\Python AI&ML\\venve\\Lib\\asyncio\\base_events.py:792: size=104 B, count=1, average=104 B\n",
      "c:\\Users\\91817\\Desktop\\Python AI&ML\\venve\\Lib\\site-packages\\zmq\\sugar\\attrsettr.py:45: size=47 B, count=1, average=47 B\n",
      "c:\\Users\\91817\\Desktop\\Python AI&ML\\venve\\Lib\\site-packages\\zmq\\eventloop\\zmqstream.py:674: size=40 B, count=1, average=40 B\n"
     ]
    }
   ],
   "source": [
    "main()"
   ]
  },
  {
   "cell_type": "code",
   "execution_count": null,
   "metadata": {},
   "outputs": [],
   "source": []
  }
 ],
 "metadata": {
  "kernelspec": {
   "display_name": "Python 3",
   "language": "python",
   "name": "python3"
  },
  "language_info": {
   "codemirror_mode": {
    "name": "ipython",
    "version": 3
   },
   "file_extension": ".py",
   "mimetype": "text/x-python",
   "name": "python",
   "nbconvert_exporter": "python",
   "pygments_lexer": "ipython3",
   "version": "3.12.0"
  }
 },
 "nbformat": 4,
 "nbformat_minor": 2
}
