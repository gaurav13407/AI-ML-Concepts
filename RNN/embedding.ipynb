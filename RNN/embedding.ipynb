{
 "cells": [
  {
   "cell_type": "code",
   "execution_count": 1,
   "id": "16e767b6",
   "metadata": {},
   "outputs": [
    {
     "name": "stderr",
     "output_type": "stream",
     "text": [
      "2025-05-06 08:48:53.094699: I external/local_xla/xla/tsl/cuda/cudart_stub.cc:32] Could not find cuda drivers on your machine, GPU will not be used.\n",
      "2025-05-06 08:48:53.099550: I external/local_xla/xla/tsl/cuda/cudart_stub.cc:32] Could not find cuda drivers on your machine, GPU will not be used.\n",
      "2025-05-06 08:48:53.114303: E external/local_xla/xla/stream_executor/cuda/cuda_fft.cc:467] Unable to register cuFFT factory: Attempting to register factory for plugin cuFFT when one has already been registered\n",
      "WARNING: All log messages before absl::InitializeLog() is called are written to STDERR\n",
      "E0000 00:00:1746501533.140013   44105 cuda_dnn.cc:8579] Unable to register cuDNN factory: Attempting to register factory for plugin cuDNN when one has already been registered\n",
      "E0000 00:00:1746501533.147238   44105 cuda_blas.cc:1407] Unable to register cuBLAS factory: Attempting to register factory for plugin cuBLAS when one has already been registered\n",
      "W0000 00:00:1746501533.166871   44105 computation_placer.cc:177] computation placer already registered. Please check linkage and avoid linking the same target more than once.\n",
      "W0000 00:00:1746501533.166899   44105 computation_placer.cc:177] computation placer already registered. Please check linkage and avoid linking the same target more than once.\n",
      "W0000 00:00:1746501533.166901   44105 computation_placer.cc:177] computation placer already registered. Please check linkage and avoid linking the same target more than once.\n",
      "W0000 00:00:1746501533.166904   44105 computation_placer.cc:177] computation placer already registered. Please check linkage and avoid linking the same target more than once.\n",
      "2025-05-06 08:48:53.173000: I tensorflow/core/platform/cpu_feature_guard.cc:210] This TensorFlow binary is optimized to use available CPU instructions in performance-critical operations.\n",
      "To enable the following instructions: AVX2 FMA, in other operations, rebuild TensorFlow with the appropriate compiler flags.\n"
     ]
    }
   ],
   "source": [
    "from tensorflow.keras.preprocessing.text import one_hot"
   ]
  },
  {
   "cell_type": "code",
   "execution_count": 2,
   "id": "069f8f13",
   "metadata": {},
   "outputs": [],
   "source": [
    "sent=[\n",
    "    'The glass of milk',\n",
    "    'the cup of tea',\n",
    "    'I am a good boy',\n",
    "    'I am a good developer',\n",
    "    'understand the meaning of the word',\n",
    "    'your video is very good',\n",
    "]"
   ]
  },
  {
   "cell_type": "code",
   "execution_count": 3,
   "id": "5defaf43",
   "metadata": {},
   "outputs": [
    {
     "data": {
      "text/plain": [
       "['The glass of milk',\n",
       " 'the cup of tea',\n",
       " 'I am a good boy',\n",
       " 'I am a good developer',\n",
       " 'understand the meaning of the word',\n",
       " 'your video is very good']"
      ]
     },
     "execution_count": 3,
     "metadata": {},
     "output_type": "execute_result"
    }
   ],
   "source": [
    "sent"
   ]
  },
  {
   "cell_type": "code",
   "execution_count": 4,
   "id": "1b96833c",
   "metadata": {},
   "outputs": [],
   "source": [
    "## Define the Voclabery size\n",
    "voc_size=10000"
   ]
  },
  {
   "cell_type": "code",
   "execution_count": 5,
   "id": "1af23a39",
   "metadata": {},
   "outputs": [],
   "source": [
    "## One hot representation\n",
    "one_hot_repr=[one_hot(words,voc_size)for words in sent]"
   ]
  },
  {
   "cell_type": "code",
   "execution_count": 6,
   "id": "1f8f8488",
   "metadata": {},
   "outputs": [
    {
     "data": {
      "text/plain": [
       "[[9480, 7412, 7163, 3994],\n",
       " [9480, 7929, 7163, 3488],\n",
       " [2188, 9454, 594, 2352, 8624],\n",
       " [2188, 9454, 594, 2352, 4711],\n",
       " [1394, 9480, 1630, 7163, 9480, 1077],\n",
       " [1576, 9875, 8669, 1428, 2352]]"
      ]
     },
     "execution_count": 6,
     "metadata": {},
     "output_type": "execute_result"
    }
   ],
   "source": [
    "one_hot_repr"
   ]
  },
  {
   "cell_type": "code",
   "execution_count": 7,
   "id": "4347119c",
   "metadata": {},
   "outputs": [],
   "source": [
    "### Word Embedding Representation\n",
    "from tensorflow.keras.layers import Embedding\n",
    "from tensorflow.keras.utils import pad_sequences\n",
    "from tensorflow.keras.models import Sequential"
   ]
  },
  {
   "cell_type": "code",
   "execution_count": 8,
   "id": "ac84459c",
   "metadata": {},
   "outputs": [],
   "source": [
    "import numpy as np"
   ]
  },
  {
   "cell_type": "code",
   "execution_count": 9,
   "id": "1aaa7ce2",
   "metadata": {},
   "outputs": [
    {
     "data": {
      "text/plain": [
       "array([[   0,    0,    0,    0, 9480, 7412, 7163, 3994],\n",
       "       [   0,    0,    0,    0, 9480, 7929, 7163, 3488],\n",
       "       [   0,    0,    0, 2188, 9454,  594, 2352, 8624],\n",
       "       [   0,    0,    0, 2188, 9454,  594, 2352, 4711],\n",
       "       [   0,    0, 1394, 9480, 1630, 7163, 9480, 1077],\n",
       "       [   0,    0,    0, 1576, 9875, 8669, 1428, 2352]], dtype=int32)"
      ]
     },
     "execution_count": 9,
     "metadata": {},
     "output_type": "execute_result"
    }
   ],
   "source": [
    "sent_length=8\n",
    "embedded_docs=pad_sequences(one_hot_repr,padding='pre',maxlen=sent_length)\n",
    "embedded_docs"
   ]
  },
  {
   "cell_type": "code",
   "execution_count": 10,
   "id": "373c6f13",
   "metadata": {},
   "outputs": [],
   "source": [
    "## Feature REpresentation\n",
    "dim=10\n"
   ]
  },
  {
   "cell_type": "code",
   "execution_count": 11,
   "id": "be8063cb",
   "metadata": {},
   "outputs": [
    {
     "name": "stderr",
     "output_type": "stream",
     "text": [
      "/home/gaurav/Python AI&ML/venv/lib/python3.12/site-packages/keras/src/layers/core/embedding.py:90: UserWarning: Argument `input_length` is deprecated. Just remove it.\n",
      "  warnings.warn(\n",
      "2025-05-06 08:48:57.057194: E external/local_xla/xla/stream_executor/cuda/cuda_platform.cc:51] failed call to cuInit: INTERNAL: CUDA error: Failed call to cuInit: UNKNOWN ERROR (303)\n"
     ]
    }
   ],
   "source": [
    "model=Sequential()\n",
    "model.add(Embedding(voc_size,dim,input_length=sent_length))\n",
    "model.compile('adam','mse')"
   ]
  },
  {
   "cell_type": "code",
   "execution_count": 12,
   "id": "33d04cdc",
   "metadata": {},
   "outputs": [
    {
     "data": {
      "text/html": [
       "<pre style=\"white-space:pre;overflow-x:auto;line-height:normal;font-family:Menlo,'DejaVu Sans Mono',consolas,'Courier New',monospace\"><span style=\"font-weight: bold\">Model: \"sequential\"</span>\n",
       "</pre>\n"
      ],
      "text/plain": [
       "\u001b[1mModel: \"sequential\"\u001b[0m\n"
      ]
     },
     "metadata": {},
     "output_type": "display_data"
    },
    {
     "data": {
      "text/html": [
       "<pre style=\"white-space:pre;overflow-x:auto;line-height:normal;font-family:Menlo,'DejaVu Sans Mono',consolas,'Courier New',monospace\">┏━━━━━━━━━━━━━━━━━━━━━━━━━━━━━━━━━┳━━━━━━━━━━━━━━━━━━━━━━━━┳━━━━━━━━━━━━━━━┓\n",
       "┃<span style=\"font-weight: bold\"> Layer (type)                    </span>┃<span style=\"font-weight: bold\"> Output Shape           </span>┃<span style=\"font-weight: bold\">       Param # </span>┃\n",
       "┡━━━━━━━━━━━━━━━━━━━━━━━━━━━━━━━━━╇━━━━━━━━━━━━━━━━━━━━━━━━╇━━━━━━━━━━━━━━━┩\n",
       "│ embedding (<span style=\"color: #0087ff; text-decoration-color: #0087ff\">Embedding</span>)           │ ?                      │   <span style=\"color: #00af00; text-decoration-color: #00af00\">0</span> (unbuilt) │\n",
       "└─────────────────────────────────┴────────────────────────┴───────────────┘\n",
       "</pre>\n"
      ],
      "text/plain": [
       "┏━━━━━━━━━━━━━━━━━━━━━━━━━━━━━━━━━┳━━━━━━━━━━━━━━━━━━━━━━━━┳━━━━━━━━━━━━━━━┓\n",
       "┃\u001b[1m \u001b[0m\u001b[1mLayer (type)                   \u001b[0m\u001b[1m \u001b[0m┃\u001b[1m \u001b[0m\u001b[1mOutput Shape          \u001b[0m\u001b[1m \u001b[0m┃\u001b[1m \u001b[0m\u001b[1m      Param #\u001b[0m\u001b[1m \u001b[0m┃\n",
       "┡━━━━━━━━━━━━━━━━━━━━━━━━━━━━━━━━━╇━━━━━━━━━━━━━━━━━━━━━━━━╇━━━━━━━━━━━━━━━┩\n",
       "│ embedding (\u001b[38;5;33mEmbedding\u001b[0m)           │ ?                      │   \u001b[38;5;34m0\u001b[0m (unbuilt) │\n",
       "└─────────────────────────────────┴────────────────────────┴───────────────┘\n"
      ]
     },
     "metadata": {},
     "output_type": "display_data"
    },
    {
     "data": {
      "text/html": [
       "<pre style=\"white-space:pre;overflow-x:auto;line-height:normal;font-family:Menlo,'DejaVu Sans Mono',consolas,'Courier New',monospace\"><span style=\"font-weight: bold\"> Total params: </span><span style=\"color: #00af00; text-decoration-color: #00af00\">0</span> (0.00 B)\n",
       "</pre>\n"
      ],
      "text/plain": [
       "\u001b[1m Total params: \u001b[0m\u001b[38;5;34m0\u001b[0m (0.00 B)\n"
      ]
     },
     "metadata": {},
     "output_type": "display_data"
    },
    {
     "data": {
      "text/html": [
       "<pre style=\"white-space:pre;overflow-x:auto;line-height:normal;font-family:Menlo,'DejaVu Sans Mono',consolas,'Courier New',monospace\"><span style=\"font-weight: bold\"> Trainable params: </span><span style=\"color: #00af00; text-decoration-color: #00af00\">0</span> (0.00 B)\n",
       "</pre>\n"
      ],
      "text/plain": [
       "\u001b[1m Trainable params: \u001b[0m\u001b[38;5;34m0\u001b[0m (0.00 B)\n"
      ]
     },
     "metadata": {},
     "output_type": "display_data"
    },
    {
     "data": {
      "text/html": [
       "<pre style=\"white-space:pre;overflow-x:auto;line-height:normal;font-family:Menlo,'DejaVu Sans Mono',consolas,'Courier New',monospace\"><span style=\"font-weight: bold\"> Non-trainable params: </span><span style=\"color: #00af00; text-decoration-color: #00af00\">0</span> (0.00 B)\n",
       "</pre>\n"
      ],
      "text/plain": [
       "\u001b[1m Non-trainable params: \u001b[0m\u001b[38;5;34m0\u001b[0m (0.00 B)\n"
      ]
     },
     "metadata": {},
     "output_type": "display_data"
    }
   ],
   "source": [
    "model.summary()"
   ]
  },
  {
   "cell_type": "code",
   "execution_count": 17,
   "id": "7473b1e5",
   "metadata": {},
   "outputs": [
    {
     "name": "stdout",
     "output_type": "stream",
     "text": [
      "\u001b[1m1/1\u001b[0m \u001b[32m━━━━━━━━━━━━━━━━━━━━\u001b[0m\u001b[37m\u001b[0m \u001b[1m0s\u001b[0m 52ms/step\n"
     ]
    },
    {
     "data": {
      "text/plain": [
       "array([[[-0.02482967, -0.02113595, -0.00082135, -0.03310575,\n",
       "          0.0250918 , -0.03902485,  0.04818339,  0.01429484,\n",
       "          0.02455774, -0.04447455],\n",
       "        [-0.02482967, -0.02113595, -0.00082135, -0.03310575,\n",
       "          0.0250918 , -0.03902485,  0.04818339,  0.01429484,\n",
       "          0.02455774, -0.04447455],\n",
       "        [-0.02482967, -0.02113595, -0.00082135, -0.03310575,\n",
       "          0.0250918 , -0.03902485,  0.04818339,  0.01429484,\n",
       "          0.02455774, -0.04447455],\n",
       "        [-0.02482967, -0.02113595, -0.00082135, -0.03310575,\n",
       "          0.0250918 , -0.03902485,  0.04818339,  0.01429484,\n",
       "          0.02455774, -0.04447455],\n",
       "        [ 0.02632141, -0.0203177 , -0.02985116, -0.03878434,\n",
       "          0.00172174, -0.02493253, -0.03820858, -0.01763233,\n",
       "          0.01312849,  0.02313307],\n",
       "        [-0.04450898,  0.02125491, -0.00232748,  0.03074251,\n",
       "          0.00247595,  0.01359919, -0.03032839,  0.02045262,\n",
       "         -0.00615428, -0.00259396],\n",
       "        [-0.0052274 ,  0.00815185,  0.04581748,  0.01795738,\n",
       "         -0.00423863,  0.0413937 ,  0.00751704,  0.04137024,\n",
       "          0.0045072 , -0.00834992],\n",
       "        [ 0.03435171,  0.00753435,  0.03678072,  0.01125573,\n",
       "          0.00331433,  0.03062415, -0.0268229 , -0.0370316 ,\n",
       "          0.01744222,  0.03649671]],\n",
       "\n",
       "       [[-0.02482967, -0.02113595, -0.00082135, -0.03310575,\n",
       "          0.0250918 , -0.03902485,  0.04818339,  0.01429484,\n",
       "          0.02455774, -0.04447455],\n",
       "        [-0.02482967, -0.02113595, -0.00082135, -0.03310575,\n",
       "          0.0250918 , -0.03902485,  0.04818339,  0.01429484,\n",
       "          0.02455774, -0.04447455],\n",
       "        [-0.02482967, -0.02113595, -0.00082135, -0.03310575,\n",
       "          0.0250918 , -0.03902485,  0.04818339,  0.01429484,\n",
       "          0.02455774, -0.04447455],\n",
       "        [-0.02482967, -0.02113595, -0.00082135, -0.03310575,\n",
       "          0.0250918 , -0.03902485,  0.04818339,  0.01429484,\n",
       "          0.02455774, -0.04447455],\n",
       "        [ 0.02632141, -0.0203177 , -0.02985116, -0.03878434,\n",
       "          0.00172174, -0.02493253, -0.03820858, -0.01763233,\n",
       "          0.01312849,  0.02313307],\n",
       "        [ 0.02096254,  0.02614678, -0.0463522 ,  0.03086377,\n",
       "          0.02527161, -0.04132986, -0.00140153,  0.02787137,\n",
       "          0.01359994, -0.04934967],\n",
       "        [-0.0052274 ,  0.00815185,  0.04581748,  0.01795738,\n",
       "         -0.00423863,  0.0413937 ,  0.00751704,  0.04137024,\n",
       "          0.0045072 , -0.00834992],\n",
       "        [ 0.04668231,  0.03680867, -0.03911989, -0.03229492,\n",
       "          0.01804478,  0.03553827,  0.03778795, -0.00488422,\n",
       "          0.02497785, -0.01873602]],\n",
       "\n",
       "       [[-0.02482967, -0.02113595, -0.00082135, -0.03310575,\n",
       "          0.0250918 , -0.03902485,  0.04818339,  0.01429484,\n",
       "          0.02455774, -0.04447455],\n",
       "        [-0.02482967, -0.02113595, -0.00082135, -0.03310575,\n",
       "          0.0250918 , -0.03902485,  0.04818339,  0.01429484,\n",
       "          0.02455774, -0.04447455],\n",
       "        [-0.02482967, -0.02113595, -0.00082135, -0.03310575,\n",
       "          0.0250918 , -0.03902485,  0.04818339,  0.01429484,\n",
       "          0.02455774, -0.04447455],\n",
       "        [-0.03405892,  0.0369321 , -0.02649438,  0.01394926,\n",
       "          0.04001768,  0.01037167, -0.02932882, -0.00820107,\n",
       "          0.00025796,  0.00574874],\n",
       "        [ 0.03398993, -0.04565272, -0.03492709, -0.02927419,\n",
       "         -0.02657975,  0.02902487, -0.00501704, -0.03215382,\n",
       "         -0.02705678,  0.02292978],\n",
       "        [-0.03095682, -0.03243096,  0.02206553, -0.00348521,\n",
       "         -0.03508215,  0.03356037, -0.03522223,  0.02498065,\n",
       "          0.01312855, -0.02098374],\n",
       "        [ 0.0245114 ,  0.00648487, -0.03566105, -0.04001775,\n",
       "         -0.04874399,  0.02236632,  0.04761188, -0.01035404,\n",
       "         -0.01590002,  0.04532887],\n",
       "        [ 0.01700176,  0.02184841,  0.00870891, -0.00269467,\n",
       "         -0.0238762 , -0.04565958,  0.02272565,  0.00578513,\n",
       "          0.02981145, -0.03815333]],\n",
       "\n",
       "       [[-0.02482967, -0.02113595, -0.00082135, -0.03310575,\n",
       "          0.0250918 , -0.03902485,  0.04818339,  0.01429484,\n",
       "          0.02455774, -0.04447455],\n",
       "        [-0.02482967, -0.02113595, -0.00082135, -0.03310575,\n",
       "          0.0250918 , -0.03902485,  0.04818339,  0.01429484,\n",
       "          0.02455774, -0.04447455],\n",
       "        [-0.02482967, -0.02113595, -0.00082135, -0.03310575,\n",
       "          0.0250918 , -0.03902485,  0.04818339,  0.01429484,\n",
       "          0.02455774, -0.04447455],\n",
       "        [-0.03405892,  0.0369321 , -0.02649438,  0.01394926,\n",
       "          0.04001768,  0.01037167, -0.02932882, -0.00820107,\n",
       "          0.00025796,  0.00574874],\n",
       "        [ 0.03398993, -0.04565272, -0.03492709, -0.02927419,\n",
       "         -0.02657975,  0.02902487, -0.00501704, -0.03215382,\n",
       "         -0.02705678,  0.02292978],\n",
       "        [-0.03095682, -0.03243096,  0.02206553, -0.00348521,\n",
       "         -0.03508215,  0.03356037, -0.03522223,  0.02498065,\n",
       "          0.01312855, -0.02098374],\n",
       "        [ 0.0245114 ,  0.00648487, -0.03566105, -0.04001775,\n",
       "         -0.04874399,  0.02236632,  0.04761188, -0.01035404,\n",
       "         -0.01590002,  0.04532887],\n",
       "        [ 0.0436896 , -0.01633669,  0.0252907 , -0.03149529,\n",
       "          0.02147162, -0.01161593, -0.02054192, -0.01890771,\n",
       "          0.03279755,  0.00881302]],\n",
       "\n",
       "       [[-0.02482967, -0.02113595, -0.00082135, -0.03310575,\n",
       "          0.0250918 , -0.03902485,  0.04818339,  0.01429484,\n",
       "          0.02455774, -0.04447455],\n",
       "        [-0.02482967, -0.02113595, -0.00082135, -0.03310575,\n",
       "          0.0250918 , -0.03902485,  0.04818339,  0.01429484,\n",
       "          0.02455774, -0.04447455],\n",
       "        [-0.02934297, -0.02500575, -0.02182703, -0.0347505 ,\n",
       "          0.01962017,  0.03907956,  0.02106935,  0.00617446,\n",
       "         -0.03601146, -0.00102314],\n",
       "        [ 0.02632141, -0.0203177 , -0.02985116, -0.03878434,\n",
       "          0.00172174, -0.02493253, -0.03820858, -0.01763233,\n",
       "          0.01312849,  0.02313307],\n",
       "        [ 0.0302924 ,  0.03213271, -0.01844132, -0.04275239,\n",
       "         -0.01676654, -0.03030777, -0.02465191, -0.02547851,\n",
       "          0.03451425, -0.03095193],\n",
       "        [-0.0052274 ,  0.00815185,  0.04581748,  0.01795738,\n",
       "         -0.00423863,  0.0413937 ,  0.00751704,  0.04137024,\n",
       "          0.0045072 , -0.00834992],\n",
       "        [ 0.02632141, -0.0203177 , -0.02985116, -0.03878434,\n",
       "          0.00172174, -0.02493253, -0.03820858, -0.01763233,\n",
       "          0.01312849,  0.02313307],\n",
       "        [-0.0271489 ,  0.01435826, -0.02185777, -0.00039421,\n",
       "          0.01238464,  0.03043649,  0.0276666 ,  0.04486952,\n",
       "         -0.04310162,  0.03217052]],\n",
       "\n",
       "       [[-0.02482967, -0.02113595, -0.00082135, -0.03310575,\n",
       "          0.0250918 , -0.03902485,  0.04818339,  0.01429484,\n",
       "          0.02455774, -0.04447455],\n",
       "        [-0.02482967, -0.02113595, -0.00082135, -0.03310575,\n",
       "          0.0250918 , -0.03902485,  0.04818339,  0.01429484,\n",
       "          0.02455774, -0.04447455],\n",
       "        [-0.02482967, -0.02113595, -0.00082135, -0.03310575,\n",
       "          0.0250918 , -0.03902485,  0.04818339,  0.01429484,\n",
       "          0.02455774, -0.04447455],\n",
       "        [ 0.0027748 ,  0.04380525,  0.00237397, -0.03946171,\n",
       "         -0.00776296, -0.02968036, -0.04418027,  0.01845611,\n",
       "          0.04397458,  0.04661217],\n",
       "        [-0.03257054,  0.04323122,  0.03666348,  0.02728045,\n",
       "          0.04009168,  0.03058514, -0.01281649,  0.01567866,\n",
       "         -0.04058719, -0.01206036],\n",
       "        [ 0.04534682,  0.02975768, -0.04388651, -0.03750615,\n",
       "         -0.01945273, -0.0339791 ,  0.00823177, -0.0255549 ,\n",
       "         -0.03201622, -0.03436431],\n",
       "        [ 0.00783781,  0.00489445, -0.00109615, -0.02390605,\n",
       "         -0.01016336,  0.01331705,  0.02803018, -0.0190987 ,\n",
       "          0.04582925,  0.04214725],\n",
       "        [ 0.0245114 ,  0.00648487, -0.03566105, -0.04001775,\n",
       "         -0.04874399,  0.02236632,  0.04761188, -0.01035404,\n",
       "         -0.01590002,  0.04532887]]], dtype=float32)"
      ]
     },
     "execution_count": 17,
     "metadata": {},
     "output_type": "execute_result"
    }
   ],
   "source": [
    "model.predict(embedded_docs)"
   ]
  },
  {
   "cell_type": "code",
   "execution_count": null,
   "id": "fefd881e",
   "metadata": {},
   "outputs": [],
   "source": []
  },
  {
   "cell_type": "code",
   "execution_count": null,
   "id": "d4f50f40",
   "metadata": {},
   "outputs": [],
   "source": []
  }
 ],
 "metadata": {
  "kernelspec": {
   "display_name": "Python 3",
   "language": "python",
   "name": "python3"
  },
  "language_info": {
   "codemirror_mode": {
    "name": "ipython",
    "version": 3
   },
   "file_extension": ".py",
   "mimetype": "text/x-python",
   "name": "python",
   "nbconvert_exporter": "python",
   "pygments_lexer": "ipython3",
   "version": "3.12.0"
  }
 },
 "nbformat": 4,
 "nbformat_minor": 5
}
