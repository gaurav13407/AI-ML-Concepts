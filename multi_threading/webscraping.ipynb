{
 "cells": [
  {
   "cell_type": "markdown",
   "metadata": {},
   "source": [
    "### Websrcaping with Multithreading "
   ]
  },
  {
   "cell_type": "code",
   "execution_count": 2,
   "metadata": {},
   "outputs": [
    {
     "name": "stdout",
     "output_type": "stream",
     "text": [
      "fetch535 charcter from https://www.langchain.com/https://python.langchain.com/docs/introduction/https://www.langchain.com/pricing-langsmith\n",
      "All web pages fetched\n"
     ]
    }
   ],
   "source": [
    "'''\n",
    "https://www.langchain.com/\n",
    "\n",
    "\n",
    "https://python.langchain.com/docs/introduction/\n",
    "\n",
    "\n",
    "https://www.langchain.com/pricing-langsmith\n",
    "'''\n",
    "\n",
    "import threading\n",
    "import requests\n",
    "from bs4 import BeautifulSoup\n",
    "\n",
    "urls=[\n",
    "'https://www.langchain.com/'\n",
    "\n",
    "\n",
    "'https://python.langchain.com/docs/introduction/'\n",
    "\n",
    "\n",
    "'https://www.langchain.com/pricing-langsmith'\n",
    "    \n",
    "]\n",
    "def fetch_content(url):\n",
    "    reponse=requests.get(url)\n",
    "    soup=BeautifulSoup(reponse.content,'html.parser')\n",
    "    print(f'fetch{len(soup.text)} charcter from {url}')\n",
    "    \n",
    "    \n",
    "threads=[]\n",
    "for url in urls:\n",
    "    thread=threading.Thread(target=fetch_content,args=(url,))\n",
    "    threads.append(thread)\n",
    "    thread.start()\n",
    "\n",
    "\n",
    "for thread in threads:\n",
    "    thread.join()\n",
    "    \n",
    "print(\"All web pages fetched\")"
   ]
  },
  {
   "cell_type": "code",
   "execution_count": null,
   "metadata": {},
   "outputs": [],
   "source": [
    "import multiprocessing\n",
    "import math\n",
    "import sys\n",
    "import time\n",
    "\n",
    "## Increase the maximum numbers of digits for integers convesion\n",
    "sys.set_int_max_str_digits(100000)\n",
    "\n",
    "## Function to compute factorial of a given number\n",
    "\n",
    "def computer_factorial(number):\n",
    "    print(f\"Compute of a specific nnumber of{number}\")\n",
    "    result=math.factorial(number)\n",
    "    print(f\"factorial of{number} id {result}\")\n",
    "    return result\n",
    "\n",
    "if __name__==\"__main__\":\n",
    "    numbers=[5000,6000,7000,8000]\n",
    "    start_time=time.time()\n",
    "    ## create a pool of worker procces\n",
    "    with multiprocessing.Pool() as pool:\n",
    "        results=pool.map(computer_factorial,numbers)\n",
    "        \n",
    "    end_time=time.time()\n",
    "    print(f\"Time taken:{end_time-start_time}seconds\")"
   ]
  },
  {
   "cell_type": "code",
   "execution_count": null,
   "metadata": {},
   "outputs": [],
   "source": []
  }
 ],
 "metadata": {
  "kernelspec": {
   "display_name": "Python 3",
   "language": "python",
   "name": "python3"
  },
  "language_info": {
   "codemirror_mode": {
    "name": "ipython",
    "version": 3
   },
   "file_extension": ".py",
   "mimetype": "text/x-python",
   "name": "python",
   "nbconvert_exporter": "python",
   "pygments_lexer": "ipython3",
   "version": "3.12.0"
  }
 },
 "nbformat": 4,
 "nbformat_minor": 2
}
