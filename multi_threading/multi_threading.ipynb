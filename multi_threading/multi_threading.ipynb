{
 "cells": [
  {
   "cell_type": "code",
   "execution_count": 2,
   "metadata": {},
   "outputs": [
    {
     "name": "stdout",
     "output_type": "stream",
     "text": [
      "number:0letter:a\n",
      "\n",
      "letter:b\n",
      "number:1\n",
      "letter:c\n",
      "number:2\n",
      "letter:d\n",
      "number:3\n",
      "letter:enumber:4\n",
      "\n",
      "10.036869764328003\n"
     ]
    }
   ],
   "source": [
    "## Multithreading \n",
    "## When to use multithreading \n",
    "## I/O task\n",
    "## Concurrent exceution\n",
    "\n",
    "import threading\n",
    "import time\n",
    "\n",
    "def print_numbers():\n",
    "    \n",
    "    for i in range(5):\n",
    "        time.sleep(2)\n",
    "        print(f\"number:{i}\")\n",
    "        \n",
    "def print_letters():\n",
    "   \n",
    "    for letter in 'abcde':\n",
    "         time.sleep(2)\n",
    "         print(f\"letter:{letter}\")\n",
    "        \n",
    "        \n",
    "## Create two threads\n",
    "t1=threading.Thread(target=print_numbers)\n",
    "t2=threading.Thread(target=print_letters)\n",
    "t=time.time()      \n",
    "## satrt the thread\n",
    "t1.start()\n",
    "t2.start()\n",
    "\n",
    "### Wait for the tread to complete\n",
    "t1.join()\n",
    "t2.join()\n",
    "finsed_time=time.time()-t\n",
    "print(finsed_time)"
   ]
  },
  {
   "cell_type": "code",
   "execution_count": 20,
   "metadata": {},
   "outputs": [
    {
     "name": "stdout",
     "output_type": "stream",
     "text": [
      "0.17956995964050293\n"
     ]
    }
   ],
   "source": [
    "## Procces that run in parallel\n",
    "### CPU-Bound Task\n",
    "## parallel execution\n",
    "\n",
    "import multiprocessing\n",
    "import time\n",
    "def square_numbers():\n",
    "    for i in range (5):\n",
    "        time.sleep(1)\n",
    "        print(f\"Square:{i*i}\")\n",
    "        \n",
    "def cube_numbers():\n",
    "    for i in range(5):\n",
    "            time.sleep(1.5)\n",
    "            print(f\"Cube:{i*i*i}\")\n",
    "            \n",
    "\n",
    "             \n",
    "if __name__==\"__main__\":            \n",
    "    ## Craete 2 procces\n",
    "    p1=multiprocessing.Process(target=square_numbers)\n",
    "    p2=multiprocessing.Process(target=cube_numbers)\n",
    "    t=time.time()\n",
    "    ## start the process\n",
    "    p1.start()\n",
    "    p2.start()\n",
    "\n",
    "        ## Wait to complete\n",
    "    p1.join()\n",
    "    p2.join()\n",
    "\n",
    "    finsed_time=time.time()-t\n",
    "    print(finsed_time)"
   ]
  },
  {
   "cell_type": "code",
   "execution_count": 1,
   "metadata": {},
   "outputs": [
    {
     "name": "stdout",
     "output_type": "stream",
     "text": [
      "number:0\n",
      "number:1\n",
      "number:2\n",
      "number:3\n",
      "number:4\n",
      "letter:a\n",
      "letter:b\n",
      "letter:c\n",
      "letter:d\n",
      "letter:e\n",
      "1738568986.6874206\n"
     ]
    }
   ],
   "source": [
    "## Multithreading \n",
    "## When to use multithreading \n",
    "## I/O task\n",
    "## Concurrent exceution\n",
    "\n",
    "import threading\n",
    "import time\n",
    "\n",
    "def print_numbers():\n",
    "    \n",
    "    for i in range(5):\n",
    "        time.sleep(2)\n",
    "        print(f\"number:{i}\")\n",
    "        \n",
    "def print_letters():\n",
    "   \n",
    "    for letter in 'abcde':\n",
    "         time.sleep(2)\n",
    "         print(f\"letter:{letter}\")\n",
    " \n",
    "t=time.time()        \n",
    "print_numbers()\n",
    "print_letters()\n",
    "tiem=time.time()-1\n",
    "print(tiem)"
   ]
  },
  {
   "cell_type": "code",
   "execution_count": null,
   "metadata": {},
   "outputs": [],
   "source": [
    "import multiprocessing\n",
    "import math\n",
    "import sys\n",
    "import time\n",
    "\n",
    "## Increase the maximum numbers of digits for integers convesion\n",
    "sys.set_int_max_str_digits(100000)\n",
    "\n",
    "## Function to compute factorial of a given number\n",
    "\n",
    "def computer_factorial(number):\n",
    "    print(f\"Compute of a specific nnumber of{number}\")\n",
    "    result=math.factorial(number)\n",
    "    print(f\"factorial of{number} id {result}\")\n",
    "    return result\n",
    "\n",
    "if __name__==\"__main__\":\n",
    "    numbers=[5000,6000,7000,8000]\n",
    "    start_time=time.time()\n",
    "    ## create a pool of worker procces\n",
    "    with multiprocessing.Pool() as pool:\n",
    "        results=pool.map(computer_factorial,numbers)\n",
    "        \n",
    "    end_time=time.time()\n",
    "    print(f\"Time taken:{end_time-start_time}seconds\")"
   ]
  }
 ],
 "metadata": {
  "kernelspec": {
   "display_name": "Python 3",
   "language": "python",
   "name": "python3"
  },
  "language_info": {
   "codemirror_mode": {
    "name": "ipython",
    "version": 3
   },
   "file_extension": ".py",
   "mimetype": "text/x-python",
   "name": "python",
   "nbconvert_exporter": "python",
   "pygments_lexer": "ipython3",
   "version": "3.12.0"
  }
 },
 "nbformat": 4,
 "nbformat_minor": 2
}
